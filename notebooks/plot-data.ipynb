{
 "cells": [
  {
   "cell_type": "code",
   "execution_count": null,
   "metadata": {},
   "outputs": [],
   "source": [
    "import datetime\n",
    "\n",
    "import pandas as pd"
   ]
  },
  {
   "cell_type": "code",
   "execution_count": null,
   "metadata": {},
   "outputs": [],
   "source": [
    "import matplotlib.pyplot as plt"
   ]
  },
  {
   "cell_type": "code",
   "execution_count": null,
   "metadata": {},
   "outputs": [],
   "source": [
    "import datetime\n",
    "\n",
    "df = pd.read_csv(\"../accelerometer-data-2023-08-25 20:31:42.558559.csv\")\n",
    "df[\"timestamp\"] = pd.to_datetime(\n",
    "    df[\"timestamp\"].map(lambda x: datetime.datetime.fromtimestamp(x))\n",
    ")\n",
    "df = df.set_index(\"timestamp\")\n",
    "df.head()"
   ]
  },
  {
   "cell_type": "code",
   "execution_count": null,
   "metadata": {},
   "outputs": [],
   "source": [
    "df.plot()\n",
    "plt.legend(loc=\"upper left\")\n",
    "plt.title(\"Accelerometer Data\")\n",
    "plt.grid(True)\n",
    "plt.ylim(-4, 4)\n",
    "plt.ylabel(\"Acceleration (G)\")\n",
    "plt.show()\n",
    "# # plot x y z on a top plot and button_state on a bottom plot, share x axis\n",
    "# fig, (ax1, ax2) = plt.subplots(2, 1, sharex=True, figsize=(10, 6))\n",
    "# df.plot(y=['x', 'y', 'z'], ax=ax1, label=['x', 'y', 'z'])\n",
    "# ax1.legend(loc=\"upper left\")\n",
    "# ax1.set_title(\"Accelerometer Data\")\n",
    "# ax1.grid(True)\n",
    "# ax1.set_ylim(-4, 4)\n",
    "# ax1.set_ylabel(\"Acceleration (G)\")\n",
    "# df.plot(y=['button_state'], ax=ax2, label=['button_state'])\n",
    "# ax2.legend(loc=\"upper left\")\n",
    "# ax2.set_ylim(-0.1, 1.1)\n",
    "# ax2.set_ylabel(\"Button State\")\n",
    "# plt.show()"
   ]
  },
  {
   "cell_type": "code",
   "execution_count": null,
   "metadata": {},
   "outputs": [],
   "source": [
    "# plot magnitude of acceleration vector and button state\n",
    "df[\"magnitude\"] = (df[\"x\"] ** 2 + df[\"y\"] ** 2 + df[\"z\"] ** 2) ** 0.5\n",
    "df.plot(y=[\"magnitude\", \"button_state\"], label=[\"magnitude\", \"button_state\"])\n",
    "plt.show()"
   ]
  },
  {
   "cell_type": "code",
   "execution_count": null,
   "metadata": {},
   "outputs": [],
   "source": [
    "X = df[[\"x\", \"y\", \"z\", \"magnitude\"]].values\n",
    "y = df[\"button_state\"].values"
   ]
  },
  {
   "cell_type": "code",
   "execution_count": null,
   "metadata": {},
   "outputs": [],
   "source": [
    "# preprocessing\n",
    "from sklearn.preprocessing import StandardScaler\n",
    "\n",
    "scaler = StandardScaler()\n",
    "X = scaler.fit_transform(X)"
   ]
  },
  {
   "cell_type": "code",
   "execution_count": null,
   "metadata": {},
   "outputs": [],
   "source": [
    "from sklearn.model_selection import cross_val_score\n",
    "from sklearn.linear_model import LogisticRegression\n",
    "\n",
    "clf = LogisticRegression(random_state=42, class_weight=\"balanced\")\n",
    "scores = cross_val_score(clf, X, y, cv=5, scoring=\"f1_macro\")\n",
    "scores"
   ]
  },
  {
   "cell_type": "code",
   "execution_count": null,
   "metadata": {},
   "outputs": [],
   "source": [
    "from sklearn.model_selection import cross_val_predict\n",
    "from sklearn.metrics import confusion_matrix, ConfusionMatrixDisplay\n",
    "import matplotlib.pyplot as plt\n",
    "\n",
    "y_pred = cross_val_predict(clf, X, y, cv=5, method=\"predict_proba\")\n",
    "conf_mat = confusion_matrix(y, y_pred[:, 1] > 0.5, normalize=\"true\")\n",
    "print(conf_mat)\n",
    "\n",
    "disp = ConfusionMatrixDisplay(\n",
    "    confusion_matrix=conf_mat, display_labels=[\"nothing\", \"step\"]\n",
    ")\n",
    "disp.plot()\n",
    "plt.show()"
   ]
  },
  {
   "cell_type": "code",
   "execution_count": null,
   "metadata": {},
   "outputs": [],
   "source": [
    "from sklearn.metrics import classification_report\n",
    "\n",
    "target_names = [\"nothing\", \"step\"]\n",
    "print(classification_report(y, y_pred[:, 1] > 0.5, target_names=target_names))"
   ]
  },
  {
   "cell_type": "code",
   "execution_count": null,
   "metadata": {},
   "outputs": [],
   "source": [
    "# plot roc curve\n",
    "import matplotlib.pyplot as plt\n",
    "\n",
    "from sklearn.metrics import DetCurveDisplay, RocCurveDisplay\n",
    "\n",
    "fig, ax_roc = plt.subplots(1, 1, figsize=(5, 5))\n",
    "RocCurveDisplay.from_predictions(y, y_pred[:, 1], ax=ax_roc)\n",
    "ax_roc.set_title(\"Receiver Operating Characteristic (ROC) curves\")\n",
    "ax_roc.grid(linestyle=\"--\")\n",
    "plt.legend()\n",
    "plt.show()"
   ]
  },
  {
   "cell_type": "code",
   "execution_count": null,
   "metadata": {},
   "outputs": [],
   "source": [
    "from sklearn.metrics import PrecisionRecallDisplay, precision_recall_curve\n",
    "\n",
    "fig, ax_pr = plt.subplots(1, 1, figsize=(5, 5))\n",
    "prec, recall, _ = precision_recall_curve(y, y_pred[:, 1], pos_label=1)\n",
    "pr_display = PrecisionRecallDisplay(precision=prec, recall=recall).plot(ax=ax_pr)\n",
    "ax_pr.grid(linestyle=\"--\")\n",
    "plt.show()"
   ]
  },
  {
   "cell_type": "code",
   "execution_count": null,
   "metadata": {},
   "outputs": [],
   "source": []
  },
  {
   "cell_type": "code",
   "execution_count": null,
   "metadata": {},
   "outputs": [],
   "source": [
    "plt.plot(y - (y_pred[:, 1] > 0.5))"
   ]
  },
  {
   "cell_type": "code",
   "execution_count": null,
   "metadata": {},
   "outputs": [],
   "source": []
  }
 ],
 "metadata": {
  "kernelspec": {
   "display_name": "Python (step-counter)",
   "language": "python",
   "name": "step-counter"
  },
  "language_info": {
   "codemirror_mode": {
    "name": "ipython",
    "version": 2
   },
   "file_extension": ".py",
   "mimetype": "text/x-python",
   "name": "python",
   "nbconvert_exporter": "python",
   "pygments_lexer": "ipython2",
   "version": "2.7.6"
  }
 },
 "nbformat": 4,
 "nbformat_minor": 0
}
